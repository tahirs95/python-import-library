{
 "cells": [
  {
   "cell_type": "code",
   "execution_count": 1,
   "metadata": {},
   "outputs": [],
   "source": [
    "import sys\n",
    "import pathlib\n",
    "\n",
    "from Formats.REPFile import REPFile\n",
    "from Store.DataStoreModule import DataStore\n",
    "from Resolvers.CommandLineResolver import CommandLineResolver"
   ]
  },
  {
   "cell_type": "code",
   "execution_count": 2,
   "metadata": {},
   "outputs": [],
   "source": [
    "datastore = DataStore(\"\", \"\", \"\", 0, \"sqlite_datastore.db\", db_type='sqlite', missing_data_resolver=CommandLineResolver())\n",
    "#datastore = DataStore(\"postgres\", \"passw0rd\", \"localhost\", 5433, \"postgres\", db_type='postgres')\n",
    "\n",
    "folder = os.path.abspath('')\n",
    "resources_path = os.path.join(folder,\"Resources\")\n",
    "filePath = os.path.join(resources_path,\"missing_platform.rep\")\n",
    "rep = REPFile(filePath)"
   ]
  },
  {
   "cell_type": "code",
   "execution_count": null,
   "metadata": {},
   "outputs": [],
   "source": [
    "with datastore.session_scope() as session:\n",
    "    datafile = session.addDatafile(rep.getDatafileName(), rep.getDatafileType())\n",
    "    for repLine in rep.getLines():\n",
    "        platform = session.addPlatform(repLine.getPlatform())\n",
    "        sensor = session.addSensor(\"GPS\", platform)\n",
    "        session.addState(repLine.getTimestamp(), datafile, sensor, repLine.getLatitude(), repLine.getLongitude(), repLine.getHeading(), repLine.getSpeed())\n"
   ]
  }
 ],
 "metadata": {
  "kernelspec": {
   "display_name": "Python 3",
   "language": "python",
   "name": "python3"
  },
  "language_info": {
   "codemirror_mode": {
    "name": "ipython",
    "version": 3
   },
   "file_extension": ".py",
   "mimetype": "text/x-python",
   "name": "python",
   "nbconvert_exporter": "python",
   "pygments_lexer": "ipython3",
   "version": "3.7.1"
  }
 },
 "nbformat": 4,
 "nbformat_minor": 2
}
