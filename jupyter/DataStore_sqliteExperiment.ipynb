{
 "cells": [
  {
   "cell_type": "markdown",
   "metadata": {},
   "source": [
    "#### Add the path of modules of the project to sys"
   ]
  },
  {
   "cell_type": "code",
   "execution_count": 1,
   "metadata": {},
   "outputs": [],
   "source": [
    "import os\n",
    "import sys\n",
    "\n",
    "module_path = os.path.abspath(os.path.join('..'))\n",
    "if module_path not in sys.path:\n",
    "    sys.path.append(module_path)"
   ]
  },
  {
   "cell_type": "markdown",
   "metadata": {
    "collapsed": true,
    "pycharm": {
     "is_executing": false
    }
   },
   "source": [
    "#### Import necessary libraries"
   ]
  },
  {
   "cell_type": "code",
   "execution_count": 2,
   "metadata": {},
   "outputs": [],
   "source": [
    "import pathlib\n",
    "\n",
    "from Formats.REPFile import REPFile\n",
    "from Store.DataStoreModule import DataStore\n",
    "from Resolvers.CommandLineResolver import CommandLineResolver"
   ]
  },
  {
   "cell_type": "markdown",
   "metadata": {},
   "source": [
    "#### Declaring global variables"
   ]
  },
  {
   "cell_type": "code",
   "execution_count": 3,
   "metadata": {},
   "outputs": [],
   "source": [
    "RESOURCES_PATH = os.path.join('..', 'Resources')\n",
    "\n",
    "data_store = DataStore(\"\", \"\", \"\", 0, \"sqlite_datastore.db\", db_type='sqlite',\n",
    "                      missing_data_resolver=CommandLineResolver())\n",
    "\n",
    "file_path = os.path.join(RESOURCES_PATH, \"missing_platform.rep\")\n",
    "rep = REPFile(str(file_path))"
   ]
  },
  {
   "cell_type": "code",
   "execution_count": 4,
   "metadata": {},
   "outputs": [
    {
     "name": "stdout",
     "output_type": "stream",
     "text": [
      "Ok, please provide classification for table 'Datafiles': \n",
      "   1) Add a new classification\n",
      "   2) Cancel import\n",
      "1\n",
      "Please type name of new classification: Private\n",
      "Platform 'SUBJECT' not found. Do you wish to: \n",
      "   1) Add a new platform, titled 'SUBJECT'\n",
      "   2) Cancel import\n",
      "1\n",
      "Ok, adding new platform.\n",
      "Please provide nationality: \n",
      "   1) Add a new nationality\n",
      "   2) Cancel import\n",
      "1\n",
      "Please type name of new nationality: FRANCE\n",
      "Ok, please provide class: \n",
      "   1) Add a new class\n",
      "   2) Cancel import\n",
      "1\n",
      "Please type name of new class: Swan\n",
      "No sensors found for that class. Skipping Sensor add\n",
      "Ok, please provide classification for this platform: \n",
      "   1) Private\n",
      "   2) Add a new classification\n",
      "   3) Cancel import\n",
      "1\n",
      "Input complete. About to create this platform:\n",
      "Name: SUBJECT\n",
      "Nationality: FRANCE\n",
      "Class: Swan\n",
      "Sensors: None\n",
      "Classification: Private\n",
      "Create this platform?: \n",
      "   1) Yes\n",
      "   2) No, make further edits\n",
      "   3) Cancel import\n",
      "1\n",
      "Sensor 'GPS' not found. Do you wish to: \n",
      "   1) Add a new sensor, titled 'GPS'\n",
      "   2) Cancel import\n",
      "1\n",
      "Ok, adding new sensor.\n",
      "Please provide sensor type: \n",
      "   1) Add a new sensor type\n",
      "   2) Cancel import\n",
      "1\n",
      "Please type name of new sensor type: GPS\n",
      "Ok, please provide classification for table 'State': \n",
      "   1) Private\n",
      "   2) Add a new classification\n",
      "   3) Cancel import\n",
      "1\n",
      "Platform 'IAMMISSING' not found. Do you wish to: \n",
      "   1) Add a new platform, titled 'IAMMISSING'\n",
      "   2) Cancel import\n",
      "1\n",
      "Ok, adding new platform.\n",
      "Please provide nationality: \n",
      "   1) FRANCE\n",
      "   2) Add a new nationality\n",
      "   3) Cancel import\n",
      "1\n",
      "Ok, please provide class: \n",
      "   1) Swan\n",
      "   2) Add a new class\n",
      "   3) Cancel import\n",
      "1\n",
      "We have 1 other instances of Swan class. They contain these sensors. Please indicate which you wish to add to IAMMISSING: \n",
      "   1) GPS\n",
      "   2) Cancel import\n",
      "1\n",
      "Ok, please provide classification for this platform: \n",
      "   1) Private\n",
      "   2) Add a new classification\n",
      "   3) Cancel import\n",
      "1\n",
      "Input complete. About to create this platform:\n",
      "Name: IAMMISSING\n",
      "Nationality: FRANCE\n",
      "Class: Swan\n",
      "Sensors: GPS\n",
      "Classification: Private\n",
      "Create this platform?: \n",
      "   1) Yes\n",
      "   2) No, make further edits\n",
      "   3) Cancel import\n",
      "1\n"
     ]
    }
   ],
   "source": [
    "with data_store.session_scope() as session:\n",
    "    datafile = session.addDatafile(rep.getDatafileName(), rep.getDatafileType())\n",
    "    for repLine in rep.getLines():\n",
    "        platform = session.addPlatform(repLine.getPlatform())\n",
    "        sensor = session.addSensor(\"GPS\", platform)\n",
    "        session.addState(repLine.getTimestamp(), datafile, sensor, repLine.getLatitude(), repLine.getLongitude(), repLine.getHeading(), repLine.getSpeed())"
   ]
  }
 ],
 "metadata": {
  "kernelspec": {
   "display_name": "Python 3",
   "language": "python",
   "name": "python3"
  },
  "language_info": {
   "codemirror_mode": {
    "name": "ipython",
    "version": 3
   },
   "file_extension": ".py",
   "mimetype": "text/x-python",
   "name": "python",
   "nbconvert_exporter": "python",
   "pygments_lexer": "ipython3",
   "version": "3.7.3"
  }
 },
 "nbformat": 4,
 "nbformat_minor": 1
}
